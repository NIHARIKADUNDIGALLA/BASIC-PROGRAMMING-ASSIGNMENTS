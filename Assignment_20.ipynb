{
 "cells": [
  {
   "cell_type": "code",
   "execution_count": 1,
   "id": "cc1dd302",
   "metadata": {},
   "outputs": [
    {
     "name": "stdout",
     "output_type": "stream",
     "text": [
      "[1, 2, 3, \"a\", \"b\", 4]\n"
     ]
    },
    {
     "data": {
      "text/plain": [
       "['1', '2', '3', '4']"
      ]
     },
     "execution_count": 1,
     "metadata": {},
     "output_type": "execute_result"
    }
   ],
   "source": [
    "##1.Create a function that takes a list of strings and integers, and filters out the list so that it returns a list of\n",
    "#integers only.\n",
    "\n",
    "def integer():\n",
    "    value=input()\n",
    "    return [i for i in value if i.isdigit()]\n",
    "\n",
    "integer()"
   ]
  },
  {
   "cell_type": "code",
   "execution_count": 19,
   "id": "c3e7b107",
   "metadata": {},
   "outputs": [
    {
     "data": {
      "text/plain": [
       "[5, 5, 5, 5, 5]"
      ]
     },
     "execution_count": 19,
     "metadata": {},
     "output_type": "execute_result"
    }
   ],
   "source": [
    "##2.Given a list of numbers, create a function which returns the list but with each element's index in the list added \n",
    "#to itself. This means you add 0 to the number at index 0, add 1 to the number at index 1, etc...\n",
    "\n",
    "def add_index(value):\n",
    "    list=[]\n",
    "    for i in range(len(value)):\n",
    "        a=i+value[i]\n",
    "        list.append(a)\n",
    "    return list\n",
    "\n",
    "add_index([5,4,3,2,1])"
   ]
  },
  {
   "cell_type": "code",
   "execution_count": 29,
   "id": "4fd7ea60",
   "metadata": {},
   "outputs": [
    {
     "data": {
      "text/plain": [
       "0.0"
      ]
     },
     "execution_count": 29,
     "metadata": {},
     "output_type": "execute_result"
    }
   ],
   "source": [
    "##3.Create a function that takes the height and radius of a cone as arguments and returns the volume of the cone\n",
    "#rounded to the nearest hundredth. See the resources tab for the formula.\n",
    "\n",
    "def vol_cone(r,h):\n",
    "    import math\n",
    "    a=(math.pi*r*r*h)/3\n",
    "    return a\n",
    "\n",
    "vol_cone(18,0)"
   ]
  },
  {
   "cell_type": "code",
   "execution_count": 33,
   "id": "1920f126",
   "metadata": {},
   "outputs": [
    {
     "data": {
      "text/plain": [
       "('Number of dots are: ', 21)"
      ]
     },
     "execution_count": 33,
     "metadata": {},
     "output_type": "execute_result"
    }
   ],
   "source": [
    "##4.Write a function that gives the number of dots with its corresponding triangle number of the sequence.\n",
    "\n",
    "def dots(n):\n",
    "    sum=0\n",
    "    for i in range(n+1):\n",
    "        sum=sum+i\n",
    "    return \"Number of dots are: \",sum\n",
    "\n",
    "dots(6)"
   ]
  },
  {
   "cell_type": "code",
   "execution_count": 45,
   "id": "3808d11c",
   "metadata": {},
   "outputs": [
    {
     "data": {
      "text/plain": [
       "[5]"
      ]
     },
     "execution_count": 45,
     "metadata": {},
     "output_type": "execute_result"
    }
   ],
   "source": [
    "##5.Create a function that takes a list of numbers between 1 and 10 (excluding one number) and returns the missing \n",
    "#number.\n",
    "\n",
    "def missing_num(num):\n",
    "    numbers=[1,2,3,4,5,6,7,8,9,10]\n",
    "    return [i for i in numbers if i not in num] \n",
    "\n",
    "\n",
    "missing_num([1, 2, 3, 4, 6, 7, 8, 9, 10])\n",
    "            \n",
    "    "
   ]
  },
  {
   "cell_type": "code",
   "execution_count": null,
   "id": "23a86bc3",
   "metadata": {},
   "outputs": [],
   "source": []
  }
 ],
 "metadata": {
  "kernelspec": {
   "display_name": "Python 3 (ipykernel)",
   "language": "python",
   "name": "python3"
  },
  "language_info": {
   "codemirror_mode": {
    "name": "ipython",
    "version": 3
   },
   "file_extension": ".py",
   "mimetype": "text/x-python",
   "name": "python",
   "nbconvert_exporter": "python",
   "pygments_lexer": "ipython3",
   "version": "3.9.7"
  }
 },
 "nbformat": 4,
 "nbformat_minor": 5
}

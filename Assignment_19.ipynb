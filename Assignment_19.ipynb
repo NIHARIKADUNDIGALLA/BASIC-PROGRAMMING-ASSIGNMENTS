{
 "cells": [
  {
   "cell_type": "code",
   "execution_count": 12,
   "id": "6cb1b570",
   "metadata": {},
   "outputs": [
    {
     "name": "stdout",
     "output_type": "stream",
     "text": [
      "string\n"
     ]
    },
    {
     "data": {
      "text/plain": [
       "'ssttrriinngg'"
      ]
     },
     "execution_count": 12,
     "metadata": {},
     "output_type": "execute_result"
    }
   ],
   "source": [
    "##1.Create a function that takes a string and returns a string in which each character is repeated once.\n",
    "\n",
    "def repeat():\n",
    "    value=str(input())\n",
    "    rep_str=[]\n",
    "    for i in value:\n",
    "        a=i*2\n",
    "        rep_str.append(a)\n",
    "    return \"\".join(rep_str)\n",
    "\n",
    "\n",
    "repeat()"
   ]
  },
  {
   "cell_type": "code",
   "execution_count": 16,
   "id": "f8c9497b",
   "metadata": {},
   "outputs": [
    {
     "name": "stdout",
     "output_type": "stream",
     "text": [
      "None\n"
     ]
    },
    {
     "data": {
      "text/plain": [
       "'boolean expected.'"
      ]
     },
     "execution_count": 16,
     "metadata": {},
     "output_type": "execute_result"
    }
   ],
   "source": [
    "##2.Create a function that reverses a boolean value and returns the string \"boolean expected\" if another variable type \n",
    "##is given.\n",
    "\n",
    "def reverse():\n",
    "    value=input()\n",
    "    if value==\"True\":\n",
    "        return False\n",
    "    elif value==\"False\":\n",
    "        return True\n",
    "    else:\n",
    "        return \"boolean expected.\"\n",
    "    \n",
    "    \n",
    "reverse()\n",
    "        "
   ]
  },
  {
   "cell_type": "code",
   "execution_count": 39,
   "id": "8b1109b8",
   "metadata": {},
   "outputs": [
    {
     "data": {
      "text/plain": [
       "[1]"
      ]
     },
     "execution_count": 39,
     "metadata": {},
     "output_type": "execute_result"
    }
   ],
   "source": [
    "##3.Create a function that takes a single string as argument and returns an ordered list containing the indices of all \n",
    "#letters in the string.\n",
    "\n",
    "def indices(string):\n",
    "    list=[]\n",
    "    for i in range(len(string)):\n",
    "        if string[i].isalpha():\n",
    "            if string[i].isupper():\n",
    "                list.append(i)\n",
    "    return list\n",
    "\n",
    "indices(\"sUn\")"
   ]
  },
  {
   "cell_type": "code",
   "execution_count": 49,
   "id": "85ebe325",
   "metadata": {},
   "outputs": [
    {
     "data": {
      "text/plain": [
       "[2, 4]"
      ]
     },
     "execution_count": 49,
     "metadata": {},
     "output_type": "execute_result"
    }
   ],
   "source": [
    "##4.Using list comprehensions, create a function that finds all even numbers from 1 to the given number.\n",
    "\n",
    "def even(n):\n",
    "    return [i for i in range(1,n+1) if i%2==0]\n",
    "\n",
    "\n",
    "even(5)"
   ]
  }
 ],
 "metadata": {
  "kernelspec": {
   "display_name": "Python 3 (ipykernel)",
   "language": "python",
   "name": "python3"
  },
  "language_info": {
   "codemirror_mode": {
    "name": "ipython",
    "version": 3
   },
   "file_extension": ".py",
   "mimetype": "text/x-python",
   "name": "python",
   "nbconvert_exporter": "python",
   "pygments_lexer": "ipython3",
   "version": "3.9.7"
  }
 },
 "nbformat": 4,
 "nbformat_minor": 5
}

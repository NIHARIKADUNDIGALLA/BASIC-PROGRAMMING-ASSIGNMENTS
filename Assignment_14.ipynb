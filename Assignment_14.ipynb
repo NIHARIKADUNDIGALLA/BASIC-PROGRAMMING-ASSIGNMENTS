{
 "cells": [
  {
   "cell_type": "code",
   "execution_count": 12,
   "id": "c9db74b9",
   "metadata": {},
   "outputs": [
    {
     "name": "stdout",
     "output_type": "stream",
     "text": [
      "0 True\n",
      "1 False\n",
      "2 False\n",
      "3 False\n",
      "4 False\n",
      "5 False\n",
      "6 False\n",
      "7 True\n",
      "8 False\n",
      "9 False\n",
      "10 False\n",
      "11 False\n",
      "12 False\n",
      "13 False\n"
     ]
    }
   ],
   "source": [
    "##1.Define a class with a generator which can iterate the numbers, which are divisible by 7, between a given range 0 \n",
    "##and n.\n",
    "\n",
    "def check(n):\n",
    "    \n",
    "    for i in range(n):\n",
    "        if i % 7 == 0:\n",
    "            value = True\n",
    "            \n",
    "        else:\n",
    "            value = False\n",
    "            \n",
    "        print(i, value)\n",
    "    \n",
    "\n",
    "check(14)"
   ]
  },
  {
   "cell_type": "code",
   "execution_count": 27,
   "id": "473ceb5e",
   "metadata": {},
   "outputs": [
    {
     "data": {
      "text/plain": [
       "[('2', 2),\n",
       " ('3.', 1),\n",
       " ('3?', 1),\n",
       " ('New', 1),\n",
       " ('Python', 5),\n",
       " ('Read', 1),\n",
       " ('and', 1),\n",
       " ('between', 1),\n",
       " ('choosing', 1),\n",
       " ('or', 2),\n",
       " ('to', 1)]"
      ]
     },
     "execution_count": 27,
     "metadata": {},
     "output_type": "execute_result"
    }
   ],
   "source": [
    "##2.a program to compute the frequency of the words from the input. \n",
    "##The output sWrite hould output after sorting the key alphanumerically. \n",
    "\n",
    "def word_count():\n",
    "    text=\"New to Python or choosing between Python 2 and Python 3? Read Python 2 or Python 3.\"\n",
    "    count={}\n",
    "    for i in text.split(\" \"):\n",
    "            if i in count:\n",
    "                count[i]=count[i]+1\n",
    "            if i not in count:\n",
    "                count[i]=1\n",
    "        \n",
    "    sort=sorted(count.items())\n",
    "    return sort\n",
    "    \n",
    "                \n",
    "    \n",
    "word_count()"
   ]
  },
  {
   "cell_type": "code",
   "execution_count": 28,
   "id": "3983c385",
   "metadata": {},
   "outputs": [
    {
     "name": "stdout",
     "output_type": "stream",
     "text": [
      "Female\n",
      "Male\n"
     ]
    }
   ],
   "source": [
    "##3.Define a class Person and its two child classes: Male and Female. All classes have a method \"getGender\" \n",
    "##which can print \"Male\" for Male class and \"Female\" for Female class.\n",
    "\n",
    "class Person(object):\n",
    "    def __init__(self):\n",
    "        self.gender = \"unknown\"\n",
    "\n",
    "    def getGender(self):\n",
    "        print(self.gender)\n",
    "\n",
    "class Male(Person):\n",
    "    def __init__(self):\n",
    "        self.gender = \"Male\"\n",
    "\n",
    "class Female(Person):\n",
    "    def __init__(self):\n",
    "        self.gender = \"Female\"\n",
    "\n",
    "sharon = Female()\n",
    "doug = Male()\n",
    "sharon.getGender()\n",
    "doug.getGender()\n"
   ]
  },
  {
   "cell_type": "code",
   "execution_count": 32,
   "id": "e9c82228",
   "metadata": {},
   "outputs": [
    {
     "name": "stdout",
     "output_type": "stream",
     "text": [
      "I Play Hockey\n",
      "I Play Football\n",
      "I Love Hockey\n",
      "I Love Football\n",
      "You Play Hockey\n",
      "You Play Football\n",
      "You Love Hockey\n",
      "You Love Football\n"
     ]
    }
   ],
   "source": [
    "##4.Please write a program to generate all sentences where subject is in [\"I\", \"You\"] and verb is in \n",
    "##[\"Play\", \"Love\"] and the object is in [\"Hockey\",\"Football\"].\n",
    "\n",
    "def sen():\n",
    "    subjects=[\"I\", \"You\"]\n",
    "    verbs=[\"Play\", \"Love\"]\n",
    "    objects=[\"Hockey\",\"Football\"]\n",
    "\n",
    "    for i in subjects:\n",
    "        for j in verbs:\n",
    "            for k in objects:\n",
    "                print(\"{} {} {}\".format(i,j,k))\n",
    "            \n",
    "sen()"
   ]
  },
  {
   "cell_type": "code",
   "execution_count": 37,
   "id": "9e8777c2",
   "metadata": {},
   "outputs": [
    {
     "data": {
      "text/plain": [
       "('compress string is :',\n",
       " b'x\\x9c\\xcbH\\xcd\\xc9\\xc9W(\\xcf/\\xcaIQ\\xcc \\x82\\r\\x00\\xbd[\\x11\\xf5',\n",
       " 'decompress of string is :',\n",
       " b'hello world!hello world!hello world!hello world!')"
      ]
     },
     "execution_count": 37,
     "metadata": {},
     "output_type": "execute_result"
    }
   ],
   "source": [
    "##5.Please write a program to compress and decompress the string \"hello world!hello world!hello world!hello world!\".\n",
    "\n",
    "def com_decom():\n",
    "    str=\"hello world!hello world!hello world!hello world!\"\n",
    "    import zlib\n",
    "    y = bytes(str, 'utf-8')\n",
    "    com=zlib.compress(y)\n",
    "    decom=zlib.decompress(com)\n",
    "    return \"compress string is :\",com,\"decompress of string is :\",decom\n",
    "\n",
    "com_decom()"
   ]
  },
  {
   "cell_type": "code",
   "execution_count": 41,
   "id": "aa21880c",
   "metadata": {},
   "outputs": [
    {
     "name": "stdout",
     "output_type": "stream",
     "text": [
      "4\n",
      "-1\n"
     ]
    }
   ],
   "source": [
    "##6.Please write a binary search function which searches an item in a sorted list. The function should return \n",
    "##the index of element to be searched in the list.\n",
    "\n",
    "import math\n",
    "def bin_search(li, element):\n",
    "    bottom = 0\n",
    "    top = len(li)-1\n",
    "    index = -1\n",
    "    while top>=bottom and index==-1:\n",
    "        mid = int(math.floor((top+bottom)/2.0))\n",
    "        if li[mid]==element:\n",
    "            index = mid\n",
    "        elif li[mid]>element:\n",
    "            top = mid-1\n",
    "        else:\n",
    "            bottom = mid+1\n",
    "\n",
    "    return index\n",
    "\n",
    "li=[2,5,7,9,11,17,222]\n",
    "print(bin_search(li,11))\n",
    "print(bin_search(li,12))\n"
   ]
  },
  {
   "cell_type": "code",
   "execution_count": null,
   "id": "5c200521",
   "metadata": {},
   "outputs": [],
   "source": []
  }
 ],
 "metadata": {
  "kernelspec": {
   "display_name": "Python 3 (ipykernel)",
   "language": "python",
   "name": "python3"
  },
  "language_info": {
   "codemirror_mode": {
    "name": "ipython",
    "version": 3
   },
   "file_extension": ".py",
   "mimetype": "text/x-python",
   "name": "python",
   "nbconvert_exporter": "python",
   "pygments_lexer": "ipython3",
   "version": "3.9.7"
  }
 },
 "nbformat": 4,
 "nbformat_minor": 5
}

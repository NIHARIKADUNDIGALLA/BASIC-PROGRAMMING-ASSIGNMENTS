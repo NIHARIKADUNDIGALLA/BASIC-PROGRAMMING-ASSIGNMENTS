{
 "cells": [
  {
   "cell_type": "code",
   "execution_count": 7,
   "id": "e9235c36",
   "metadata": {},
   "outputs": [
    {
     "data": {
      "text/plain": [
       "92"
      ]
     },
     "execution_count": 7,
     "metadata": {},
     "output_type": "execute_result"
    }
   ],
   "source": [
    "##1.Write a Python Program to Find LCM?\n",
    "\n",
    "def lcm_num(x,y):\n",
    "    if x>y:\n",
    "        greater=x\n",
    "    else:\n",
    "        greater=y\n",
    "        \n",
    "    while(True):\n",
    "        if((greater%x==0) and (greater%y==0)):\n",
    "            lcm=greater\n",
    "            break\n",
    "        greater+=1\n",
    "        \n",
    "    return lcm\n",
    "      \n",
    "    \n",
    "lcm_num(4,23)"
   ]
  },
  {
   "cell_type": "code",
   "execution_count": 11,
   "id": "b5693f5b",
   "metadata": {},
   "outputs": [
    {
     "data": {
      "text/plain": [
       "6"
      ]
     },
     "execution_count": 11,
     "metadata": {},
     "output_type": "execute_result"
    }
   ],
   "source": [
    "##2.Write a Python Program to Find HCF?\n",
    "\n",
    "def hcf_num(x, y):\n",
    "    if x > y:\n",
    "        small = y\n",
    "    else:\n",
    "        small = x\n",
    "    for i in range(1, small+1):\n",
    "        if((x % i == 0) and (y % i == 0)):\n",
    "            hcf = i \n",
    "    return hcf\n",
    "\n",
    "hcf_num(54,24)"
   ]
  },
  {
   "cell_type": "code",
   "execution_count": 19,
   "id": "1cba0382",
   "metadata": {},
   "outputs": [
    {
     "data": {
      "text/plain": [
       "('0b110010', 'is binary.', '0o62', 'is octal.', '0x32', 'is hexadecimal.')"
      ]
     },
     "execution_count": 19,
     "metadata": {},
     "output_type": "execute_result"
    }
   ],
   "source": [
    "##3.Write a Python Program to Convert Decimal to Binary, Octal and Hexadecimal?\n",
    "\n",
    "def convert_decimal(num):\n",
    "    a=bin(num)\n",
    "    #return a,\"is binary.\"\n",
    "    b=oct(num)\n",
    "    #return b,\"is octal.\"\n",
    "    c=hex(num)\n",
    "    return a,\"is binary.\",b,\"is octal.\",c,\"is hexadecimal.\"\n",
    "\n",
    "\n",
    "convert_decimal(50)"
   ]
  },
  {
   "cell_type": "code",
   "execution_count": 22,
   "id": "7fedf083",
   "metadata": {},
   "outputs": [
    {
     "data": {
      "text/plain": [
       "(\"The ASCII value of 'N' is : \", 78)"
      ]
     },
     "execution_count": 22,
     "metadata": {},
     "output_type": "execute_result"
    }
   ],
   "source": [
    "##4.Write a Python Program To Find ASCII value of a character?\n",
    "\n",
    "def ascii_value(character):\n",
    "    return \"The ASCII value of '\"+character+\"' is : \",ord(character)\n",
    "\n",
    "ascii_value(\"N\")"
   ]
  },
  {
   "cell_type": "code",
   "execution_count": 63,
   "id": "75509b69",
   "metadata": {},
   "outputs": [
    {
     "name": "stdout",
     "output_type": "stream",
     "text": [
      "Addition of two numbers: 7\n",
      "Subtraction of two numbers: -1\n",
      "Multiplication of two numbers: 12\n",
      "Division of two numbers: 0.75\n"
     ]
    }
   ],
   "source": [
    "##5.Write a Python Program to Make a Simple Calculator with 4 basic mathematical operations?\n",
    "\n",
    "def add(a,b):\n",
    "    return a+b\n",
    "def sub(a,b):\n",
    "    return a-b\n",
    "def mul(a,b):\n",
    "    return a*b\n",
    "def div(a,b):\n",
    "    return a/b\n",
    "    \n",
    "\n",
    "print(\"Addition of two numbers:\",add(3,4))\n",
    "print(\"Subtraction of two numbers:\",sub(3,4))\n",
    "print(\"Multiplication of two numbers:\",mul(3,4))\n",
    "print(\"Division of two numbers:\",div(3,4))"
   ]
  },
  {
   "cell_type": "code",
   "execution_count": null,
   "id": "810e7879",
   "metadata": {},
   "outputs": [],
   "source": []
  }
 ],
 "metadata": {
  "kernelspec": {
   "display_name": "Python 3 (ipykernel)",
   "language": "python",
   "name": "python3"
  },
  "language_info": {
   "codemirror_mode": {
    "name": "ipython",
    "version": 3
   },
   "file_extension": ".py",
   "mimetype": "text/x-python",
   "name": "python",
   "nbconvert_exporter": "python",
   "pygments_lexer": "ipython3",
   "version": "3.9.7"
  }
 },
 "nbformat": 4,
 "nbformat_minor": 5
}

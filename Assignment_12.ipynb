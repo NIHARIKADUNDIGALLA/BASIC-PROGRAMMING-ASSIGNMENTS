{
 "cells": [
  {
   "cell_type": "code",
   "execution_count": 1,
   "id": "bb6db7cb",
   "metadata": {},
   "outputs": [
    {
     "data": {
      "text/plain": [
       "[1, 2, 3, 4, 5, 6, 7, 8, 10, 12]"
      ]
     },
     "execution_count": 1,
     "metadata": {},
     "output_type": "execute_result"
    }
   ],
   "source": [
    "##1.Write a Python program to Extract Unique values dictionary values?\n",
    "\n",
    "def unique_value(d):\n",
    "    unique=[]\n",
    "    for i in d.values():\n",
    "        for ele in i:\n",
    "            #a=sorted(ele)\n",
    "            if ele  not in unique: \n",
    "                unique.append(ele)\n",
    "    a=sorted(unique)\n",
    "    return a\n",
    "\n",
    "unique_value({'A' : [1, 3, 5, 4],\n",
    "             'B' : [4, 6, 8, 10],\n",
    "             'C' : [6, 12, 4 ,8],\n",
    "             'D' : [5, 7, 2]}\n",
    ")"
   ]
  },
  {
   "cell_type": "code",
   "execution_count": 20,
   "id": "70e6ebd3",
   "metadata": {},
   "outputs": [
    {
     "data": {
      "text/plain": [
       "600"
      ]
     },
     "execution_count": 20,
     "metadata": {},
     "output_type": "execute_result"
    }
   ],
   "source": [
    "##2.Write a Python program to find the sum of all items in a dictionary?\n",
    "\n",
    "def sum_dict(d):\n",
    "    items=[]\n",
    "    for i in d.values():\n",
    "        items.append(i)\n",
    "    sum=0\n",
    "    for ele in range(0,len(items)):\n",
    "        sum=sum+items[ele]\n",
    "    return sum\n",
    "\n",
    "sum_dict({'a': 100, 'b': 200, 'c': 300})\n",
    "        "
   ]
  },
  {
   "cell_type": "code",
   "execution_count": 24,
   "id": "f616b386",
   "metadata": {},
   "outputs": [
    {
     "data": {
      "text/plain": [
       "{1: 'a', 2: 'c', 4: 'd'}"
      ]
     },
     "execution_count": 24,
     "metadata": {},
     "output_type": "execute_result"
    }
   ],
   "source": [
    "##3.Write a Python program to Merging two Dictionaries?\n",
    "\n",
    "def merge_dict(a,b):\n",
    "    result=a|b\n",
    "    return result\n",
    "\n",
    "merge_dict({1: 'a', 2: 'b'},{2: 'c', 4: 'd'})"
   ]
  },
  {
   "cell_type": "code",
   "execution_count": 21,
   "id": "3de1a7c5",
   "metadata": {},
   "outputs": [
    {
     "data": {
      "text/plain": [
       "{1: 'Mon', 2: 'Tues', 3: 'Wed'}"
      ]
     },
     "execution_count": 21,
     "metadata": {},
     "output_type": "execute_result"
    }
   ],
   "source": [
    "##4.Write a Python program to convert key-values list to flat dictionary?\n",
    "\n",
    "def convert():\n",
    "    dic={ \"day\": [1, 2, 3], \"name\": ['Mon', 'Tues', 'Wed' ]}\n",
    "    return dict(zip(dic['day'],dic['name']))\n",
    "    \n",
    "convert()"
   ]
  },
  {
   "cell_type": "code",
   "execution_count": 27,
   "id": "40d5f863",
   "metadata": {},
   "outputs": [
    {
     "data": {
      "text/plain": [
       "OrderedDict([('d', 400), ('a', 100), ('b', 200), ('c', 300)])"
      ]
     },
     "execution_count": 27,
     "metadata": {},
     "output_type": "execute_result"
    }
   ],
   "source": [
    "##5.Write a Python program to insertion at the beginning in OrderedDict?\n",
    "\n",
    "def ins(d):\n",
    "    from collections import OrderedDict\n",
    "    d=OrderedDict(d)\n",
    "    d.update({\"d\":400})\n",
    "    d.move_to_end(\"d\",last=False)\n",
    "    return d\n",
    "\n",
    "ins({'a':100,'b':200,'c':300})"
   ]
  },
  {
   "cell_type": "code",
   "execution_count": 29,
   "id": "58ea0753",
   "metadata": {},
   "outputs": [
    {
     "data": {
      "text/plain": [
       "'true'"
      ]
     },
     "execution_count": 29,
     "metadata": {},
     "output_type": "execute_result"
    }
   ],
   "source": [
    "##6.Write a Python program to check order of character in string using OrderedDict()?\n",
    "\n",
    "from collections import OrderedDict \n",
    "  \n",
    "def check_Order(input, pattern): \n",
    "    dict = OrderedDict.fromkeys(input)\n",
    "    ptrlen = 0\n",
    "    for key,value in dict.items(): \n",
    "        if (key == pattern[ptrlen]): \n",
    "            ptrlen = ptrlen + 1\n",
    "          \n",
    "        if (ptrlen == (len(pattern))): \n",
    "            return 'true'\n",
    "  \n",
    "    return 'false'\n",
    "\n",
    "\n",
    "check_Order('engineers rock','er')"
   ]
  },
  {
   "cell_type": "code",
   "execution_count": 56,
   "id": "54e06a81",
   "metadata": {},
   "outputs": [
    {
     "name": "stdout",
     "output_type": "stream",
     "text": [
      "1 5\n",
      "3 2\n",
      "7 6\n"
     ]
    }
   ],
   "source": [
    "##7.Write a Python program to sort Python Dictionaries by Key or Value?\n",
    "\n",
    "def sort(d):\n",
    "    \n",
    "    for i in sorted(d):\n",
    "        print (i,d[i])\n",
    "\n",
    "    \n",
    "\n",
    "sort({3:2,1:5,7:6})"
   ]
  },
  {
   "cell_type": "code",
   "execution_count": null,
   "id": "6f2102f1",
   "metadata": {},
   "outputs": [],
   "source": []
  },
  {
   "cell_type": "code",
   "execution_count": null,
   "id": "354bd7bb",
   "metadata": {},
   "outputs": [],
   "source": []
  },
  {
   "cell_type": "code",
   "execution_count": null,
   "id": "5002d6ab",
   "metadata": {},
   "outputs": [],
   "source": []
  },
  {
   "cell_type": "code",
   "execution_count": null,
   "id": "06c210f5",
   "metadata": {},
   "outputs": [],
   "source": []
  },
  {
   "cell_type": "code",
   "execution_count": null,
   "id": "4ceb173b",
   "metadata": {},
   "outputs": [],
   "source": []
  },
  {
   "cell_type": "code",
   "execution_count": null,
   "id": "2350341d",
   "metadata": {},
   "outputs": [],
   "source": []
  }
 ],
 "metadata": {
  "kernelspec": {
   "display_name": "Python 3 (ipykernel)",
   "language": "python",
   "name": "python3"
  },
  "language_info": {
   "codemirror_mode": {
    "name": "ipython",
    "version": 3
   },
   "file_extension": ".py",
   "mimetype": "text/x-python",
   "name": "python",
   "nbconvert_exporter": "python",
   "pygments_lexer": "ipython3",
   "version": "3.9.7"
  }
 },
 "nbformat": 4,
 "nbformat_minor": 5
}

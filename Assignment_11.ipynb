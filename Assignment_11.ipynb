{
 "cells": [
  {
   "cell_type": "code",
   "execution_count": 8,
   "id": "9ee41c39",
   "metadata": {},
   "outputs": [
    {
     "data": {
      "text/plain": [
       "['this', 'string']"
      ]
     },
     "execution_count": 8,
     "metadata": {},
     "output_type": "execute_result"
    }
   ],
   "source": [
    "##1.Write a Python program to find words which are greater than given length k?\n",
    "\n",
    "def words(mystr,k):\n",
    "    largestr=[]\n",
    "    word=mystr.split(\" \")\n",
    "    for i in word:\n",
    "        if len(i)>k:\n",
    "            largestr.append(i)\n",
    "    return largestr\n",
    "    \n",
    "words(\"this is my string\",3)"
   ]
  },
  {
   "cell_type": "code",
   "execution_count": 9,
   "id": "2a5b1cb9",
   "metadata": {},
   "outputs": [
    {
     "data": {
      "text/plain": [
       "'ineron'"
      ]
     },
     "execution_count": 9,
     "metadata": {},
     "output_type": "execute_result"
    }
   ],
   "source": [
    "##2.Write a Python program for removing i-th character from a string?\n",
    "\n",
    "def remove(str,i):\n",
    "    a=str[:i]\n",
    "    b=str[i+1:]\n",
    "    return a+b\n",
    "\n",
    "remove(\"ineuron\",3)"
   ]
  },
  {
   "cell_type": "code",
   "execution_count": 19,
   "id": "b0099796",
   "metadata": {},
   "outputs": [
    {
     "name": "stdout",
     "output_type": "stream",
     "text": [
      "['ineuron', 'dashboard']\n",
      "ineuron dashboard\n"
     ]
    }
   ],
   "source": [
    "##3.Write a Python program to split and join a string?\n",
    "\n",
    "def split(str):\n",
    "    split_str=str.split(\" \")\n",
    "    return split_str\n",
    "\n",
    "def join(str1,str2):\n",
    "    join_str=str1+' '+str2\n",
    "    return join_str\n",
    "\n",
    "print(split(\"ineuron dashboard\"))\n",
    "print(join(\"ineuron\",\"dashboard\"))"
   ]
  },
  {
   "cell_type": "code",
   "execution_count": 25,
   "id": "2a66a0f5",
   "metadata": {},
   "outputs": [
    {
     "name": "stdout",
     "output_type": "stream",
     "text": [
      "yes\n"
     ]
    }
   ],
   "source": [
    "##4.Write a Python to check if a given string is binary string or not?\n",
    "\n",
    "def check(str):\n",
    "    a=set(str)\n",
    "    b={'0','1'}\n",
    "    if b==a or b=={'0'} or b=={'1'}:\n",
    "        print(\"yes\")\n",
    "    else:\n",
    "        print(\"no\")\n",
    "        \n",
    "        \n",
    "check(\"0110110\")"
   ]
  },
  {
   "cell_type": "code",
   "execution_count": 28,
   "id": "d3c6b25e",
   "metadata": {},
   "outputs": [
    {
     "data": {
      "text/plain": [
       "['Learning', 'from']"
      ]
     },
     "execution_count": 28,
     "metadata": {},
     "output_type": "execute_result"
    }
   ],
   "source": [
    "##5.Write a Python program to find uncommon words from two Strings?\n",
    "\n",
    "def UncommonWords(A, B):\n",
    "    count = {}\n",
    "    \n",
    "    for word in A.split():\n",
    "        count[word] = count.get(word, 0) +1\n",
    "      \n",
    "    for word in B.split():\n",
    "        count[word] = count.get(word, 0) +1\n",
    "  \n",
    "    return [word for word in count if count[word] == 1]\n",
    "  \n",
    "\n",
    "A = \"Geeks for Geeks\"\n",
    "B = \"Learning from Geeks for Geeks\"\n",
    "  \n",
    "UncommonWords(\"Geeks for Geeks\",\"Learning from Geeks for Geeks\")"
   ]
  },
  {
   "cell_type": "code",
   "execution_count": 37,
   "id": "79e0b0bd",
   "metadata": {},
   "outputs": [
    {
     "data": {
      "text/plain": [
       "['e']"
      ]
     },
     "execution_count": 37,
     "metadata": {},
     "output_type": "execute_result"
    }
   ],
   "source": [
    "##6.Write a Python to find all duplicate characters in string?\n",
    "\n",
    "def dup_str(string):\n",
    "    duplicates=[]\n",
    "    for char in string:\n",
    "        if string.count(char) > 1:\n",
    "            if char not in duplicates:\n",
    "                duplicates.append(char)\n",
    "            return duplicates\n",
    "    \n",
    "    \n",
    "dup_str(\"eye\")"
   ]
  },
  {
   "cell_type": "code",
   "execution_count": 39,
   "id": "173e0714",
   "metadata": {},
   "outputs": [
    {
     "name": "stdout",
     "output_type": "stream",
     "text": [
      "The string contains special characters.\n"
     ]
    }
   ],
   "source": [
    "##7.Write a Python Program to check if a string contains any special character?\n",
    "\n",
    "def special_char(string):\n",
    "    import re\n",
    "    special_char = re.compile('[@_!#$%^&*()<>?/\\|}{~:]')\n",
    "    if(special_char.search(string) == None):\n",
    "        print('String does not contain any special characters.')\n",
    "    else:\n",
    "        print('The string contains special characters.')\n",
    "        \n",
    "special_char(\"@program\")"
   ]
  },
  {
   "cell_type": "code",
   "execution_count": null,
   "id": "d80ae7b0",
   "metadata": {},
   "outputs": [],
   "source": []
  },
  {
   "cell_type": "code",
   "execution_count": null,
   "id": "c1995cfd",
   "metadata": {},
   "outputs": [],
   "source": []
  },
  {
   "cell_type": "code",
   "execution_count": null,
   "id": "16cb2d37",
   "metadata": {},
   "outputs": [],
   "source": []
  },
  {
   "cell_type": "code",
   "execution_count": null,
   "id": "e5eb7b9f",
   "metadata": {},
   "outputs": [],
   "source": []
  },
  {
   "cell_type": "code",
   "execution_count": null,
   "id": "6d8bd207",
   "metadata": {},
   "outputs": [],
   "source": []
  },
  {
   "cell_type": "code",
   "execution_count": null,
   "id": "34874607",
   "metadata": {},
   "outputs": [],
   "source": []
  },
  {
   "cell_type": "code",
   "execution_count": null,
   "id": "621c346b",
   "metadata": {},
   "outputs": [],
   "source": []
  },
  {
   "cell_type": "code",
   "execution_count": null,
   "id": "fef7f33b",
   "metadata": {},
   "outputs": [],
   "source": []
  }
 ],
 "metadata": {
  "kernelspec": {
   "display_name": "Python 3 (ipykernel)",
   "language": "python",
   "name": "python3"
  },
  "language_info": {
   "codemirror_mode": {
    "name": "ipython",
    "version": 3
   },
   "file_extension": ".py",
   "mimetype": "text/x-python",
   "name": "python",
   "nbconvert_exporter": "python",
   "pygments_lexer": "ipython3",
   "version": "3.9.7"
  }
 },
 "nbformat": 4,
 "nbformat_minor": 5
}

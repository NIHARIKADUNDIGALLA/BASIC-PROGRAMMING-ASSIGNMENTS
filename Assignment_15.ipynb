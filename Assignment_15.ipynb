{
 "cells": [
  {
   "cell_type": "code",
   "execution_count": 9,
   "id": "66c477a7",
   "metadata": {},
   "outputs": [
    {
     "data": {
      "text/plain": [
       "[0, 35, 70]"
      ]
     },
     "execution_count": 9,
     "metadata": {},
     "output_type": "execute_result"
    }
   ],
   "source": [
    "##1.Write a program using generator to print the numbers which can be divisible by 5 and 7 between 0 and n in\n",
    "##comma separated form while n is input by console.\n",
    "\n",
    "def gen(num):\n",
    "    nums=[]\n",
    "    for i in range(num):\n",
    "        if i%5==0 and i%7==0:\n",
    "            nums.append(i)\n",
    "    return nums\n",
    "\n",
    "gen(100)"
   ]
  },
  {
   "cell_type": "code",
   "execution_count": 15,
   "id": "e85af86c",
   "metadata": {},
   "outputs": [
    {
     "data": {
      "text/plain": [
       "[0, 2, 4, 6, 8]"
      ]
     },
     "execution_count": 15,
     "metadata": {},
     "output_type": "execute_result"
    }
   ],
   "source": [
    "##2.Write a program using generator to print the even numbers between 0 and n in comma separated form while n is input\n",
    "##by console.\n",
    "\n",
    "def even(num):\n",
    "    nums=[]\n",
    "    for i in range(num):\n",
    "        if i%2==0:\n",
    "            nums.append(i)\n",
    "    return nums\n",
    "\n",
    "even(10)"
   ]
  },
  {
   "cell_type": "code",
   "execution_count": 36,
   "id": "ea9fc925",
   "metadata": {},
   "outputs": [
    {
     "name": "stdout",
     "output_type": "stream",
     "text": [
      "7\n",
      "0,1,1,2,3,5,8,13\n"
     ]
    }
   ],
   "source": [
    "##3.The Fibonacci Sequence is computed based on the following formula:\n",
    "\n",
    "def fib(n):\n",
    "    a=[]\n",
    "    if n==0:\n",
    "        return 0\n",
    "    elif n==1:\n",
    "        return 1\n",
    "    elif n>1:\n",
    "        return fib(n-1)+fib(n-2)\n",
    "        \n",
    "n=int(input())\n",
    "values = [str(fib(x)) for x in range(0, n+1)]\n",
    "print(','.join(values))\n",
    "\n",
    "    \n",
    "    \n",
    "\n"
   ]
  },
  {
   "cell_type": "code",
   "execution_count": 46,
   "id": "f763e9a4",
   "metadata": {},
   "outputs": [
    {
     "name": "stdout",
     "output_type": "stream",
     "text": [
      "john\n"
     ]
    }
   ],
   "source": [
    "##4.Assuming that we have some email addresses in the \"username@companyname.com\" format, please write program to\n",
    "##print the user name of a given email address. Both user names and company names are composed of letters only.\n",
    "\n",
    "import re\n",
    "emailAddress = \"john@google.com\"\n",
    "pattern = \"(\\w+)@(\\w+)\\.(com)\"\n",
    "name = re.match(pattern,emailAddress)\n",
    "print(name.group(1))"
   ]
  },
  {
   "cell_type": "code",
   "execution_count": 56,
   "id": "00fb8a6c",
   "metadata": {},
   "outputs": [
    {
     "data": {
      "text/plain": [
       "25"
      ]
     },
     "execution_count": 56,
     "metadata": {},
     "output_type": "execute_result"
    }
   ],
   "source": [
    "##5.Define a class named Shape and its subclass Square. The Square class has an init function which takes a length as \n",
    "##argument. Both classes have a area function which can print the area of the shape where Shape's area is 0 by default.\n",
    "\n",
    "class shape():\n",
    "    def __init__(self):\n",
    "        pass\n",
    "    def area(self):\n",
    "        return 0\n",
    "    \n",
    "class square(shape):\n",
    "    def __init__(self,s):\n",
    "        shape.__init__(self)\n",
    "        self.s=s\n",
    "    def area(self):\n",
    "        return self.s*self.s\n",
    "            \n",
    "        \n",
    "squ=square(5)\n",
    "squ.area()"
   ]
  }
 ],
 "metadata": {
  "kernelspec": {
   "display_name": "Python 3 (ipykernel)",
   "language": "python",
   "name": "python3"
  },
  "language_info": {
   "codemirror_mode": {
    "name": "ipython",
    "version": 3
   },
   "file_extension": ".py",
   "mimetype": "text/x-python",
   "name": "python",
   "nbconvert_exporter": "python",
   "pygments_lexer": "ipython3",
   "version": "3.9.7"
  }
 },
 "nbformat": 4,
 "nbformat_minor": 5
}

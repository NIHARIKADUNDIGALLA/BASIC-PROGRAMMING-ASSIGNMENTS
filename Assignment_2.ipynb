{
 "cells": [
  {
   "cell_type": "code",
   "execution_count": 6,
   "id": "e87ac10f",
   "metadata": {},
   "outputs": [
    {
     "name": "stdout",
     "output_type": "stream",
     "text": [
      "5 kilometres is equal to 3.11\n"
     ]
    }
   ],
   "source": [
    "##1.Write a Python program to convert kilometers to miles?\n",
    "\n",
    "def miles(km):\n",
    "    ##conversion factor\n",
    "    con_fact=0.621371\n",
    "    mile=km*con_fact\n",
    "    return mile\n",
    "\n",
    "print(\"5 kilometres is equal to\",round(miles(5),2))"
   ]
  },
  {
   "cell_type": "code",
   "execution_count": 15,
   "id": "ee4c4d32",
   "metadata": {},
   "outputs": [
    {
     "name": "stdout",
     "output_type": "stream",
     "text": [
      "38.7 celsius is equal to 101.66 degree fahrenheit\n"
     ]
    }
   ],
   "source": [
    "##2.Write a Python program to convert Celsius to Fahrenheit?\n",
    "\n",
    "def celsius(cel):\n",
    "    fahrenheit=(cel*1.8)+32\n",
    "    return fahrenheit\n",
    "\n",
    "print(\"38.7 celsius is equal to {} degree fahrenheit\".format(round(celsius(38.7),2)))"
   ]
  },
  {
   "cell_type": "code",
   "execution_count": 24,
   "id": "5639bb1e",
   "metadata": {},
   "outputs": [
    {
     "name": "stdout",
     "output_type": "stream",
     "text": [
      "Enter Year: 2022\n",
      "Enter Month: 6\n"
     ]
    },
    {
     "data": {
      "text/plain": [
       "'     June 2022\\nMo Tu We Th Fr Sa Su\\n       1  2  3  4  5\\n 6  7  8  9 10 11 12\\n13 14 15 16 17 18 19\\n20 21 22 23 24 25 26\\n27 28 29 30\\n'"
      ]
     },
     "execution_count": 24,
     "metadata": {},
     "output_type": "execute_result"
    }
   ],
   "source": [
    "##3.Write a Python program to display calendar?\n",
    "\n",
    "def Calendar():\n",
    "    import calendar\n",
    "    yy=int(input(\"Enter Year: \"))\n",
    "    month=int(input(\"Enter Month: \"))\n",
    "    return calendar.month(yy,month)\n",
    "\n",
    "Calendar()"
   ]
  },
  {
   "cell_type": "code",
   "execution_count": 30,
   "id": "b5a897ad",
   "metadata": {},
   "outputs": [
    {
     "name": "stdout",
     "output_type": "stream",
     "text": [
      "The roots of the quadratic equation are  ((-1-1j), (-1+1j))\n"
     ]
    }
   ],
   "source": [
    "##4.Write a Python program to solve quadratic equation?\n",
    "\n",
    "def qua_equ(a,b,c):\n",
    "    import cmath\n",
    "\n",
    "    # calculate the discriminant\n",
    "    d = (b**2) - (4*a*c)\n",
    "\n",
    "    # find two solutions\n",
    "    root1 = (-b-cmath.sqrt(d))/(2*a)\n",
    "    root2 = (-b+cmath.sqrt(d))/(2*a)\n",
    "    return root1,root2\n",
    "\n",
    "\n",
    "print(\"The roots of the quadratic equation are \",qua_equ(1,2,2))"
   ]
  },
  {
   "cell_type": "code",
   "execution_count": 31,
   "id": "4d6990ad",
   "metadata": {},
   "outputs": [
    {
     "data": {
      "text/plain": [
       "(3, 5)"
      ]
     },
     "execution_count": 31,
     "metadata": {},
     "output_type": "execute_result"
    }
   ],
   "source": [
    "##5.Write a Python program to swap two variables without temp variable?\n",
    "\n",
    "def swap(a,b):\n",
    "    c = a,b = b,a\n",
    "    return c\n",
    "\n",
    "swap(5,3)"
   ]
  },
  {
   "cell_type": "code",
   "execution_count": null,
   "id": "34891f35",
   "metadata": {},
   "outputs": [],
   "source": []
  },
  {
   "cell_type": "code",
   "execution_count": null,
   "id": "175ff5ff",
   "metadata": {},
   "outputs": [],
   "source": []
  },
  {
   "cell_type": "code",
   "execution_count": null,
   "id": "f4bee5f4",
   "metadata": {},
   "outputs": [],
   "source": []
  }
 ],
 "metadata": {
  "kernelspec": {
   "display_name": "Python 3 (ipykernel)",
   "language": "python",
   "name": "python3"
  },
  "language_info": {
   "codemirror_mode": {
    "name": "ipython",
    "version": 3
   },
   "file_extension": ".py",
   "mimetype": "text/x-python",
   "name": "python",
   "nbconvert_exporter": "python",
   "pygments_lexer": "ipython3",
   "version": "3.9.7"
  }
 },
 "nbformat": 4,
 "nbformat_minor": 5
}

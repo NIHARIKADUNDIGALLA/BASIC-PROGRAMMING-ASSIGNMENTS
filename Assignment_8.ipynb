{
 "cells": [
  {
   "cell_type": "code",
   "execution_count": 9,
   "id": "23050eb9",
   "metadata": {},
   "outputs": [
    {
     "name": "stdout",
     "output_type": "stream",
     "text": [
      "Enter the Number of rows : 2\n",
      "Enter the Number of Columns: 2\n",
      "Enter the elements of First Matrix:\n",
      "1\n",
      "2\n",
      "3\n",
      "4\n",
      "First Matrix is: \n",
      "[1, 2]\n",
      "[3, 4]\n",
      "Enter the elements of Second Matrix:\n",
      "5\n",
      "6\n",
      "7\n",
      "8\n",
      "[5, 6]\n",
      "[7, 8]\n",
      "The Sum of Above two Matrices is : \n",
      "[6, 8]\n",
      "[10, 12]\n"
     ]
    }
   ],
   "source": [
    "##1.Write a Python Program to Add Two Matrices?\n",
    "\n",
    "def add_mat():\n",
    "    rows = int(input(\"Enter the Number of rows : \" ))\n",
    "    column = int(input(\"Enter the Number of Columns: \"))\n",
    "\n",
    "    print(\"Enter the elements of First Matrix:\")\n",
    "    matrix_a= [[int(input()) for i in range(column)] for i in range(rows)]\n",
    "    print(\"First Matrix is: \")\n",
    "    for n in matrix_a:\n",
    "        print(n)\n",
    "\n",
    "    print(\"Enter the elements of Second Matrix:\")\n",
    "    matrix_b= [[int(input()) for i in range(column)] for i in range(rows)]\n",
    "    for n in matrix_b:\n",
    "        print(n)\n",
    "    \n",
    "    result=[[0 for i in range(column)] for i in range(rows)]\n",
    "\n",
    "    for i in range(rows):\n",
    "        for j in range(column):\n",
    "            result[i][j] = matrix_a[i][j]+matrix_b[i][j]\n",
    "\n",
    "    print(\"The Sum of Above two Matrices is : \")\n",
    "    for r in result:\n",
    "        print(r)\n",
    "        \n",
    "        \n",
    "add_mat()"
   ]
  },
  {
   "cell_type": "code",
   "execution_count": 12,
   "id": "1b9d74c5",
   "metadata": {},
   "outputs": [
    {
     "name": "stdout",
     "output_type": "stream",
     "text": [
      "Multiplied Matrix:\n",
      "[17, 26, 35, 44]\n",
      "[41, 62, 83, 104]\n",
      "[65, 98, 131, 164]\n"
     ]
    }
   ],
   "source": [
    "##2.Write a Python Program to Multiply Two Matrices?\n",
    "\n",
    "def mul():\n",
    "    A = [[1,2,3],\n",
    "     [4,5,6],\n",
    "     [7,8,9]]\n",
    "    \n",
    "    B = [[1,2,3,4],\n",
    "         [5,6,7,8],\n",
    "         [2,4,6,8]]\n",
    "\n",
    "    result = [[0,0,0,0],\n",
    "             [0,0,0,0],\n",
    "             [0,0,0,0]]\n",
    "\n",
    "\n",
    "    for i in range(len(A)):\n",
    "        for j in range(len(B[0])):\n",
    "            for k in range(len(B)):\n",
    "                result[i][j] += A[i][k] * B[k][j]\n",
    "\n",
    "    print('Multiplied Matrix:')\n",
    "    for r in result:\n",
    "        print(r)\n",
    "        \n",
    "\n",
    "mul()"
   ]
  },
  {
   "cell_type": "code",
   "execution_count": 18,
   "id": "79abebdb",
   "metadata": {},
   "outputs": [
    {
     "name": "stdout",
     "output_type": "stream",
     "text": [
      "Enter the Number of rows : 2\n",
      "Enter the Number of Columns: 2\n",
      "Enter the elements of First Matrix:\n",
      "1\n",
      "2\n",
      "3\n",
      "4\n",
      "First Matrix is: \n",
      "[1, 2]\n",
      "[3, 4]\n",
      "The transpose of given matrix is : \n",
      "[1, 3]\n",
      "[2, 4]\n"
     ]
    }
   ],
   "source": [
    "##3.Write a Python Program to Transpose a Matrix?\n",
    "\n",
    "def transpose():\n",
    "    rows = int(input(\"Enter the Number of rows : \" ))\n",
    "    column = int(input(\"Enter the Number of Columns: \"))\n",
    "\n",
    "    print(\"Enter the elements of First Matrix:\")\n",
    "    a= [[int(input()) for i in range(column)] for i in range(rows)]\n",
    "    print(\"First Matrix is: \")\n",
    "    for n in a:\n",
    "        print(n)\n",
    "        \n",
    "    result=[[0 for i in range(column)] for i in range(rows)]\n",
    "\n",
    "    for i in range(rows):\n",
    "        for j in range(column):\n",
    "            result[j][i] = a[i][j]\n",
    "\n",
    "    print(\"The transpose of given matrix is : \")\n",
    "    for r in result:\n",
    "        print(r)\n",
    "        \n",
    "transpose()"
   ]
  },
  {
   "cell_type": "code",
   "execution_count": 36,
   "id": "3a7ce011",
   "metadata": {},
   "outputs": [
    {
     "name": "stdout",
     "output_type": "stream",
     "text": [
      "\"This is Example\"\n"
     ]
    },
    {
     "data": {
      "text/plain": [
       "['\"this', 'example\"', 'is']"
      ]
     },
     "execution_count": 36,
     "metadata": {},
     "output_type": "execute_result"
    }
   ],
   "source": [
    "##4.Write a Python Program to Sort Words in Alphabetic Order?\n",
    "\n",
    "def sort_words():\n",
    "    words=input()\n",
    "    lower_words=[word.lower() for word in words.split()]\n",
    "    lower_words.sort()\n",
    "    a=[]\n",
    "    for w in lower_words:\n",
    "        a.append(w)\n",
    "    return a\n",
    "    \n",
    "sort_words()"
   ]
  },
  {
   "cell_type": "code",
   "execution_count": 38,
   "id": "70cfce87",
   "metadata": {},
   "outputs": [
    {
     "name": "stdout",
     "output_type": "stream",
     "text": [
      "hi what is the weather like\n"
     ]
    }
   ],
   "source": [
    "##5.Write a Python Program to Remove Punctuation From a String?\n",
    "\n",
    "def remove_punct():\n",
    "    import re\n",
    "    a_string = '!hi. wh?at is the weat[h]er lik?e.'\n",
    "    new_string = re.sub(r'[^\\w\\s]', '', a_string)\n",
    "    print(new_string)\n",
    "    \n",
    "    \n",
    "remove_punct()"
   ]
  },
  {
   "cell_type": "code",
   "execution_count": null,
   "id": "248830e9",
   "metadata": {},
   "outputs": [],
   "source": []
  },
  {
   "cell_type": "code",
   "execution_count": null,
   "id": "6b12153c",
   "metadata": {},
   "outputs": [],
   "source": []
  },
  {
   "cell_type": "code",
   "execution_count": null,
   "id": "6395bbdb",
   "metadata": {},
   "outputs": [],
   "source": []
  },
  {
   "cell_type": "code",
   "execution_count": null,
   "id": "f4b8da39",
   "metadata": {},
   "outputs": [],
   "source": []
  },
  {
   "cell_type": "code",
   "execution_count": null,
   "id": "6f8adfe1",
   "metadata": {},
   "outputs": [],
   "source": []
  },
  {
   "cell_type": "code",
   "execution_count": null,
   "id": "3ba7fc69",
   "metadata": {},
   "outputs": [],
   "source": []
  },
  {
   "cell_type": "code",
   "execution_count": null,
   "id": "fd92432c",
   "metadata": {},
   "outputs": [],
   "source": []
  },
  {
   "cell_type": "code",
   "execution_count": null,
   "id": "41f2ecb0",
   "metadata": {},
   "outputs": [],
   "source": []
  },
  {
   "cell_type": "code",
   "execution_count": null,
   "id": "c324e808",
   "metadata": {},
   "outputs": [],
   "source": []
  }
 ],
 "metadata": {
  "kernelspec": {
   "display_name": "Python 3 (ipykernel)",
   "language": "python",
   "name": "python3"
  },
  "language_info": {
   "codemirror_mode": {
    "name": "ipython",
    "version": 3
   },
   "file_extension": ".py",
   "mimetype": "text/x-python",
   "name": "python",
   "nbconvert_exporter": "python",
   "pygments_lexer": "ipython3",
   "version": "3.9.7"
  }
 },
 "nbformat": 4,
 "nbformat_minor": 5
}

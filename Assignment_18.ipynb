{
 "cells": [
  {
   "cell_type": "code",
   "execution_count": 12,
   "id": "91af2ff1",
   "metadata": {},
   "outputs": [
    {
     "name": "stdout",
     "output_type": "stream",
     "text": [
      "1, 2, \"a\", \"b\"\n"
     ]
    },
    {
     "data": {
      "text/plain": [
       "['1', '2']"
      ]
     },
     "execution_count": 12,
     "metadata": {},
     "output_type": "execute_result"
    }
   ],
   "source": [
    "##1.Create a function that takes a list of non-negative integers and strings and return a new list without the strings.\n",
    "\n",
    "def string():\n",
    "    str1=str(input())\n",
    "    list=[]\n",
    "    for i in str1:\n",
    "        if i.isdigit():\n",
    "            list.append(i)\n",
    "    return list\n",
    "\n",
    "string()"
   ]
  },
  {
   "cell_type": "code",
   "execution_count": 13,
   "id": "7014e121",
   "metadata": {},
   "outputs": [
    {
     "data": {
      "text/plain": [
       "'DLROw OLLEh'"
      ]
     },
     "execution_count": 13,
     "metadata": {},
     "output_type": "execute_result"
    }
   ],
   "source": [
    "##2.The \"Reverser\" takes a string as input and returns that string in reverse order, with the opposite case.\n",
    "\n",
    "def order_rev(str):\n",
    "    str=str.swapcase()\n",
    "    str=str[::-1]\n",
    "    return str\n",
    "\n",
    "\n",
    "order_rev(\"Hello World\")"
   ]
  },
  {
   "cell_type": "code",
   "execution_count": 14,
   "id": "983a97bf",
   "metadata": {},
   "outputs": [
    {
     "data": {
      "text/plain": [
       "('first values are: ',\n",
       " 1,\n",
       " 'middle values are: ',\n",
       " [2, 3, 4, 5],\n",
       " 'last values are: ',\n",
       " 6)"
      ]
     },
     "execution_count": 14,
     "metadata": {},
     "output_type": "execute_result"
    }
   ],
   "source": [
    "##3.Your task is to unpack the list writeyourcodehere into three variables, being first, middle, and last, with middle\n",
    "#being everything in between the first and last element. Then print all three variables.\n",
    "\n",
    "def var(a):\n",
    "    first=a[0]\n",
    "    middle=a[1:-1]\n",
    "    last=a[-1]\n",
    "    return \"first values are: \",first,\"middle values are: \",middle,\"last values are: \",last\n",
    "\n",
    "\n",
    "var([1,2,3,4,5,6])\n"
   ]
  },
  {
   "cell_type": "code",
   "execution_count": 17,
   "id": "88896774",
   "metadata": {},
   "outputs": [
    {
     "data": {
      "text/plain": [
       "120"
      ]
     },
     "execution_count": 17,
     "metadata": {},
     "output_type": "execute_result"
    }
   ],
   "source": [
    "##4.Write a function that calculates the factorial of a number recursively.\n",
    "\n",
    "def fact(n):\n",
    "    if n<=1:\n",
    "        return 1\n",
    "    else:\n",
    "        return n*fact(n-1)\n",
    "    \n",
    "fact(5)"
   ]
  },
  {
   "cell_type": "code",
   "execution_count": 12,
   "id": "bbd1774c",
   "metadata": {},
   "outputs": [
    {
     "data": {
      "text/plain": [
       "[3, 2, 4, 4, 1, 1]"
      ]
     },
     "execution_count": 12,
     "metadata": {},
     "output_type": "execute_result"
    }
   ],
   "source": [
    "# 5.Write a function that moves all elements of one type to the end of the list.\n",
    "\n",
    "def list():\n",
    "    lst = [1, 3, 2, 4, 4, 1]\n",
    "    lst.append(lst.pop(lst.index(1)))\n",
    "    return  lst\n",
    "\n",
    "list()\n",
    "\n"
   ]
  }
 ],
 "metadata": {
  "kernelspec": {
   "display_name": "Python 3 (ipykernel)",
   "language": "python",
   "name": "python3"
  },
  "language_info": {
   "codemirror_mode": {
    "name": "ipython",
    "version": 3
   },
   "file_extension": ".py",
   "mimetype": "text/x-python",
   "name": "python",
   "nbconvert_exporter": "python",
   "pygments_lexer": "ipython3",
   "version": "3.9.7"
  }
 },
 "nbformat": 4,
 "nbformat_minor": 5
}

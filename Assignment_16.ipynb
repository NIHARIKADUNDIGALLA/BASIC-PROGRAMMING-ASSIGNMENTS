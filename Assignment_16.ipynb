{
 "cells": [
  {
   "cell_type": "code",
   "execution_count": 17,
   "id": "f400b849",
   "metadata": {},
   "outputs": [
    {
     "name": "stdout",
     "output_type": "stream",
     "text": [
      "in ... in .... incredible ?\n"
     ]
    }
   ],
   "source": [
    "##1. Write a function that stutters a word as if someone is struggling to read it. The first two letters are repeated\n",
    "##twice with an ellipsis ... and space after each, and then the word is pronounced with a question mark ?.\n",
    "\n",
    "def stutter(word):\n",
    "    a=word[0]\n",
    "    b=word[1]\n",
    "    print(a+b,\"...\",a+b,\"....\",word,\"?\")\n",
    "    \n",
    "stutter(\"incredible\")\n",
    "        "
   ]
  },
  {
   "cell_type": "code",
   "execution_count": 4,
   "id": "a3bb3930",
   "metadata": {},
   "outputs": [
    {
     "name": "stdout",
     "output_type": "stream",
     "text": [
      "Enter angle1\n"
     ]
    },
    {
     "data": {
      "text/plain": [
       "57.3"
      ]
     },
     "execution_count": 4,
     "metadata": {},
     "output_type": "execute_result"
    }
   ],
   "source": [
    "##2.Create a function that takes an angle in radians and returns the corresponding angle in degrees rounded to one \n",
    "##decimal place.\n",
    "\n",
    "def deg():\n",
    "    import math\n",
    "    value=int(input(\"Enter angle\"))\n",
    "    rad=math.radians(value)\n",
    "    degr=round(math.degrees(value),1)\n",
    "    return degr\n",
    "\n",
    "deg()"
   ]
  },
  {
   "cell_type": "code",
   "execution_count": 9,
   "id": "949ca12c",
   "metadata": {},
   "outputs": [
    {
     "data": {
      "text/plain": [
       "True"
      ]
     },
     "execution_count": 9,
     "metadata": {},
     "output_type": "execute_result"
    }
   ],
   "source": [
    "##3. In this challenge, establish if a given integer num is a Curzon number. If 1 plus 2 elevated to num is exactly \n",
    "##divisible by 1 plus 2 multiplied by num, then num is a Curzon number.\n",
    "\n",
    "def curzon(num):\n",
    "    a=2**num+1\n",
    "    b=2*num+1\n",
    "    if a%b==0:\n",
    "        return True\n",
    "    else:\n",
    "        return False\n",
    "    \n",
    "curzon(5)"
   ]
  },
  {
   "cell_type": "code",
   "execution_count": 16,
   "id": "6857479c",
   "metadata": {},
   "outputs": [
    {
     "data": {
      "text/plain": [
       "23.4"
      ]
     },
     "execution_count": 16,
     "metadata": {},
     "output_type": "execute_result"
    }
   ],
   "source": [
    "##4.Given the side length x find the area of a hexagon.\n",
    "\n",
    "def hexagon_area(side):\n",
    "    import math\n",
    "    area=(3*math.sqrt(3)*pow(side,2))/2\n",
    "    area=round((area),1)\n",
    "    return area\n",
    "\n",
    "hexagon_area(3)"
   ]
  },
  {
   "cell_type": "code",
   "execution_count": 22,
   "id": "705b9a16",
   "metadata": {},
   "outputs": [
    {
     "name": "stdout",
     "output_type": "stream",
     "text": [
      "01010"
     ]
    }
   ],
   "source": [
    "##5. Create a function that returns a base-2 (binary) representation of a base-10 (decimal) string number. \n",
    "##To convert is simple: ((2) means base-2 and (10) means base-10) 010101001(2) = 1 + 8 + 32 + 128.\n",
    "\n",
    "def DecimalToBinary(num):\n",
    "     \n",
    "    if num >= 1:\n",
    "        DecimalToBinary(num // 2)\n",
    "    print(num % 2, end = '')\n",
    "    \n",
    "    \n",
    "DecimalToBinary(10)"
   ]
  }
 ],
 "metadata": {
  "kernelspec": {
   "display_name": "Python 3 (ipykernel)",
   "language": "python",
   "name": "python3"
  },
  "language_info": {
   "codemirror_mode": {
    "name": "ipython",
    "version": 3
   },
   "file_extension": ".py",
   "mimetype": "text/x-python",
   "name": "python",
   "nbconvert_exporter": "python",
   "pygments_lexer": "ipython3",
   "version": "3.9.7"
  }
 },
 "nbformat": 4,
 "nbformat_minor": 5
}

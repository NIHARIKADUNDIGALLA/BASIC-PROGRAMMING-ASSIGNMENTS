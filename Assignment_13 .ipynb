{
 "cells": [
  {
   "cell_type": "code",
   "execution_count": 16,
   "id": "9e22bcd2",
   "metadata": {},
   "outputs": [
    {
     "data": {
      "text/plain": [
       "[18.0, 22.0, 24.0]"
      ]
     },
     "execution_count": 16,
     "metadata": {},
     "output_type": "execute_result"
    }
   ],
   "source": [
    "##1.Write a program that calculates and prints the value according to the given formula:\n",
    "##Q = Square root of [(2 * C * D)/H]\n",
    "##Following are the fixed values of C and H:\n",
    "##C is 50. H is 30.\n",
    "##D is the variable whose values should be input to your program in a comma-separated sequence.\n",
    "\n",
    "def cal(*args):\n",
    "    value=[]\n",
    "    import numpy as np\n",
    "    c=50\n",
    "    h=30\n",
    "    for i in range(0,len(args)):\n",
    "        q=np.sqrt((2*c*args[i])/h)\n",
    "        a=round(q,0)\n",
    "        value.append(a)\n",
    "    return value\n",
    "\n",
    "cal(100,150,180)"
   ]
  },
  {
   "cell_type": "code",
   "execution_count": 20,
   "id": "0f536605",
   "metadata": {},
   "outputs": [
    {
     "name": "stdout",
     "output_type": "stream",
     "text": [
      "rows:3\n",
      "columns:5\n"
     ]
    },
    {
     "data": {
      "text/plain": [
       "[[0, 0, 0, 0, 0], [0, 1, 2, 3, 4], [0, 2, 4, 6, 8]]"
      ]
     },
     "execution_count": 20,
     "metadata": {},
     "output_type": "execute_result"
    }
   ],
   "source": [
    "##2.Write a program which takes 2 digits, X,Y as input and generates a 2-dimensional array. \n",
    "##The element value in the i-th row and j-th column of the array should be i*j.\n",
    "\n",
    "def arr():\n",
    "    a=int(input(\"rows:\"))\n",
    "    b=int(input(\"columns:\"))\n",
    "    mat=[[0 for col in range(b)]for row in range(a)]\n",
    "    for i in range(a):\n",
    "        for j in range(b):\n",
    "            mat[i][j]=i*j\n",
    "    return mat\n",
    "\n",
    "arr()"
   ]
  },
  {
   "cell_type": "code",
   "execution_count": 14,
   "id": "2eba0f7f",
   "metadata": {},
   "outputs": [
    {
     "name": "stdout",
     "output_type": "stream",
     "text": [
      "\"without\",\"hello\",\"bag\",\"world\"\n"
     ]
    },
    {
     "data": {
      "text/plain": [
       "['\"bag\"', '\"hello\"', '\"without\"', '\"world\"']"
      ]
     },
     "execution_count": 14,
     "metadata": {},
     "output_type": "execute_result"
    }
   ],
   "source": [
    "##3.Write a program that accepts a comma separated sequence of words as input and prints the words in a \n",
    "##comma-separated sequence after sorting them alphabetically.\n",
    "\n",
    "def order():\n",
    "    words=input()\n",
    "    a=words.split(',')\n",
    "    b=sorted(a)\n",
    "    return b\n",
    "\n",
    "order()"
   ]
  },
  {
   "cell_type": "code",
   "execution_count": 15,
   "id": "575ee9e3",
   "metadata": {},
   "outputs": [
    {
     "data": {
      "text/plain": [
       "['again', 'and', 'hello', 'makes', 'perfect', 'practice', 'world']"
      ]
     },
     "execution_count": 15,
     "metadata": {},
     "output_type": "execute_result"
    }
   ],
   "source": [
    "##4.Write a program that accepts a sequence of whitespace separated words as input and prints the words after \n",
    "##removing all duplicate words and sorting them alphanumerically.\n",
    "\n",
    "def words():\n",
    "    seq=\"hello world and practice makes perfect and hello world again\"\n",
    "    words=seq.split(' ')\n",
    "    dup=[]\n",
    "    for word in words:\n",
    "        if word not in dup:\n",
    "            dup.append(word)\n",
    "    sort=sorted(dup)\n",
    "    return sort\n",
    "\n",
    "words()\n"
   ]
  },
  {
   "cell_type": "code",
   "execution_count": 26,
   "id": "f2cc9b34",
   "metadata": {},
   "outputs": [
    {
     "data": {
      "text/plain": [
       "('number of digits are:', 3, 'number of letters are:', 10)"
      ]
     },
     "execution_count": 26,
     "metadata": {},
     "output_type": "execute_result"
    }
   ],
   "source": [
    "##5.Write a program that accepts a sentence and calculate the number of letters and digit?\n",
    "\n",
    "def let_alp():\n",
    "    str=\"hello world! 123\"\n",
    "    digits=letters=0\n",
    "    for char in str:\n",
    "        if char.isdigit():\n",
    "            digits+=1\n",
    "        elif char.isalpha():\n",
    "            letters+=1\n",
    "        else:\n",
    "            pass\n",
    "    return \"number of digits are:\",digits,\"number of letters are:\",letters\n",
    "\n",
    "let_alp()"
   ]
  },
  {
   "cell_type": "code",
   "execution_count": 41,
   "id": "17102542",
   "metadata": {},
   "outputs": [
    {
     "name": "stdout",
     "output_type": "stream",
     "text": [
      "\"ABd1234@1\",\"a F1#\",\"2w3E*\",\"2We3345\"\n"
     ]
    },
    {
     "data": {
      "text/plain": [
       "'\"ABd1234@1\"'"
      ]
     },
     "execution_count": 41,
     "metadata": {},
     "output_type": "execute_result"
    }
   ],
   "source": [
    "##6.A website requires the users to input username and password to register. \n",
    "##Write a program to check the validity of password input by users.\n",
    "\n",
    "def pas():\n",
    "    import re\n",
    "    value = []\n",
    "    items=[x for x in input().split(',')]\n",
    "    for i in items:\n",
    "        if len(i)<6 or len(i)>12:\n",
    "            continue\n",
    "        else:\n",
    "            pass\n",
    "        if not re.search(\"[a-z]\",i):\n",
    "            continue\n",
    "        elif not re.search(\"[0-9]\",i):\n",
    "            continue\n",
    "        elif not re.search(\"[A-Z]\",i):\n",
    "            continue\n",
    "        elif not re.search(\"[$#@]\",i):\n",
    "            continue\n",
    "        elif re.search(\"\\s\",i):\n",
    "            continue\n",
    "        else:\n",
    "            pass\n",
    "        value.append(i)\n",
    "    return (\",\".join(value))\n",
    "    \n",
    "pas()"
   ]
  }
 ],
 "metadata": {
  "kernelspec": {
   "display_name": "Python 3 (ipykernel)",
   "language": "python",
   "name": "python3"
  },
  "language_info": {
   "codemirror_mode": {
    "name": "ipython",
    "version": 3
   },
   "file_extension": ".py",
   "mimetype": "text/x-python",
   "name": "python",
   "nbconvert_exporter": "python",
   "pygments_lexer": "ipython3",
   "version": "3.9.7"
  }
 },
 "nbformat": 4,
 "nbformat_minor": 5
}

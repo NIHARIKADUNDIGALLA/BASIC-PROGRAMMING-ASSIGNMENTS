{
 "cells": [
  {
   "cell_type": "code",
   "execution_count": 14,
   "id": "f7c82513",
   "metadata": {},
   "outputs": [
    {
     "data": {
      "text/plain": [
       "6"
      ]
     },
     "execution_count": 14,
     "metadata": {},
     "output_type": "execute_result"
    }
   ],
   "source": [
    "##1.Write a Python Program to find sum of array?\n",
    "\n",
    "def add(arr):\n",
    "    sum=0\n",
    "    for i in range(0,len(arr)):\n",
    "        sum=sum+arr[i]\n",
    "    return sum\n",
    "\n",
    "add([1,2,3])"
   ]
  },
  {
   "cell_type": "code",
   "execution_count": 28,
   "id": "a5d81541",
   "metadata": {},
   "outputs": [
    {
     "data": {
      "text/plain": [
       "4"
      ]
     },
     "execution_count": 28,
     "metadata": {},
     "output_type": "execute_result"
    }
   ],
   "source": [
    "##2.Write a Python Program to find largest element in an array?\n",
    "\n",
    "def largest_num(arr):\n",
    "    max=arr[0]\n",
    "    for i in range(0,len(arr)):\n",
    "        if(arr[i]>max):\n",
    "            max=arr[i]\n",
    "    return max\n",
    "        \n",
    "largest_num([1,2,4])"
   ]
  },
  {
   "cell_type": "code",
   "execution_count": 33,
   "id": "fbe0eba3",
   "metadata": {},
   "outputs": [
    {
     "data": {
      "text/plain": [
       "[4, 5, 6, 7, 1, 2, 3]"
      ]
     },
     "execution_count": 33,
     "metadata": {},
     "output_type": "execute_result"
    }
   ],
   "source": [
    "##3.Write a Python Program for array rotation?\n",
    "\n",
    "def rotateArray(a,d):\n",
    "    temp = []\n",
    "    n=len(a)\n",
    "    for i in range(d,n):\n",
    "        temp.append(a[i])\n",
    "    i = 0\n",
    "    for i in range (0,d):\n",
    "        temp.append(a[i])\n",
    "    return temp\n",
    "\n",
    "\n",
    "rotateArray([1,2,3,4,5,6,7],3)"
   ]
  },
  {
   "cell_type": "code",
   "execution_count": 8,
   "id": "ed4fcc2f",
   "metadata": {},
   "outputs": [
    {
     "data": {
      "text/plain": [
       "[4, 5, 1, 2, 3]"
      ]
     },
     "execution_count": 8,
     "metadata": {},
     "output_type": "execute_result"
    }
   ],
   "source": [
    "##4.Write a Python Program to Split the array and add the first part to the end?\n",
    "\n",
    "def array(arr,k):\n",
    "    a=arr[k:]+arr[:k]\n",
    "    return a\n",
    "\n",
    "array([1,2,3,4,5],3)\n",
    "    "
   ]
  },
  {
   "cell_type": "code",
   "execution_count": 6,
   "id": "10991629",
   "metadata": {},
   "outputs": [
    {
     "data": {
      "text/plain": [
       "False"
      ]
     },
     "execution_count": 6,
     "metadata": {},
     "output_type": "execute_result"
    }
   ],
   "source": [
    "##5.Write a Python Program to check if given array is Monotonic?\n",
    "\n",
    "def ismonotonic(arr):\n",
    "    \n",
    "     return (all(arr[i] <= arr[i + 1] for i in range(len(arr) - 1)) or\n",
    "            all(arr[i] >= arr[i + 1] for i in range(len(arr) - 1)))\n",
    "    \n",
    "ismonotonic([2,7,1,5,4])\n"
   ]
  },
  {
   "cell_type": "code",
   "execution_count": null,
   "id": "8add876b",
   "metadata": {},
   "outputs": [],
   "source": []
  }
 ],
 "metadata": {
  "kernelspec": {
   "display_name": "Python 3 (ipykernel)",
   "language": "python",
   "name": "python3"
  },
  "language_info": {
   "codemirror_mode": {
    "name": "ipython",
    "version": 3
   },
   "file_extension": ".py",
   "mimetype": "text/x-python",
   "name": "python",
   "nbconvert_exporter": "python",
   "pygments_lexer": "ipython3",
   "version": "3.9.7"
  }
 },
 "nbformat": 4,
 "nbformat_minor": 5
}

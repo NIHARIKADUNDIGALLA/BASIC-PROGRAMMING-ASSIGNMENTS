{
 "cells": [
  {
   "cell_type": "code",
   "execution_count": 1,
   "id": "8d159221",
   "metadata": {},
   "outputs": [
    {
     "name": "stdout",
     "output_type": "stream",
     "text": [
      "Hello Python\n"
     ]
    }
   ],
   "source": [
    "##1)1.Write a Python program to print \"Hello Python\"?\n",
    "\n",
    "def hello():\n",
    "    print(\"Hello Python\")\n",
    "    \n",
    "hello()"
   ]
  },
  {
   "cell_type": "code",
   "execution_count": 19,
   "id": "fae26835",
   "metadata": {},
   "outputs": [
    {
     "name": "stdout",
     "output_type": "stream",
     "text": [
      "addition of given numbers: [14]\n",
      "division of given numbers: 0.5\n"
     ]
    }
   ],
   "source": [
    "##2)Write a Python program to do arithmetical operations addition and division.?\n",
    "\n",
    "def add(*args):\n",
    "    a=[]\n",
    "    sum=0\n",
    "    for i in args:\n",
    "        sum=sum+i\n",
    "    a.append(sum)\n",
    "    return a\n",
    "    \n",
    "def div(a,b):\n",
    "    return a/b    \n",
    "    \n",
    "print(\"addition of given numbers:\",add(2,3,4,5))\n",
    "print(\"division of given numbers:\",div(1,2))"
   ]
  },
  {
   "cell_type": "code",
   "execution_count": 24,
   "id": "cc16e20f",
   "metadata": {},
   "outputs": [
    {
     "data": {
      "text/plain": [
       "14.0"
      ]
     },
     "execution_count": 24,
     "metadata": {},
     "output_type": "execute_result"
    }
   ],
   "source": [
    "##3)Write a Python program to find the area of a triangle?\n",
    "\n",
    "def area_triangle(b,h):\n",
    "    area=(1/2)*b*h\n",
    "    return area\n",
    "\n",
    "area_triangle(4,7)"
   ]
  },
  {
   "cell_type": "code",
   "execution_count": 28,
   "id": "f1bffede",
   "metadata": {},
   "outputs": [
    {
     "data": {
      "text/plain": [
       "(20, 10)"
      ]
     },
     "execution_count": 28,
     "metadata": {},
     "output_type": "execute_result"
    }
   ],
   "source": [
    "##4)Write a Python program to swap two variables?\n",
    "\n",
    "def swap(a,b):\n",
    "    c = a,b = b,a\n",
    "    return c\n",
    "\n",
    "swap(10,20)"
   ]
  },
  {
   "cell_type": "code",
   "execution_count": 47,
   "id": "58c36495",
   "metadata": {},
   "outputs": [
    {
     "data": {
      "text/plain": [
       "[30, 4, 15, 15, 25]"
      ]
     },
     "execution_count": 47,
     "metadata": {},
     "output_type": "execute_result"
    }
   ],
   "source": [
    "##5.Write a Python program to generate a random number?\n",
    "\n",
    "def ran_num(n,a,b):\n",
    "    import random\n",
    "    randomlist=[]\n",
    "    for i in range(0,n):\n",
    "        q=random.randint(a,b)\n",
    "        randomlist.append(q)\n",
    "    return randomlist\n",
    "\n",
    "    \n",
    "ran_num(5,1,30)"
   ]
  },
  {
   "cell_type": "code",
   "execution_count": null,
   "id": "578eec3d",
   "metadata": {},
   "outputs": [],
   "source": []
  },
  {
   "cell_type": "code",
   "execution_count": null,
   "id": "b4742c1b",
   "metadata": {},
   "outputs": [],
   "source": []
  },
  {
   "cell_type": "code",
   "execution_count": null,
   "id": "abf8e6b3",
   "metadata": {},
   "outputs": [],
   "source": []
  },
  {
   "cell_type": "code",
   "execution_count": null,
   "id": "ee6dc28c",
   "metadata": {},
   "outputs": [],
   "source": []
  },
  {
   "cell_type": "code",
   "execution_count": null,
   "id": "a1af3818",
   "metadata": {},
   "outputs": [],
   "source": []
  },
  {
   "cell_type": "code",
   "execution_count": null,
   "id": "81cbcb0a",
   "metadata": {},
   "outputs": [],
   "source": []
  }
 ],
 "metadata": {
  "kernelspec": {
   "display_name": "Python 3 (ipykernel)",
   "language": "python",
   "name": "python3"
  },
  "language_info": {
   "codemirror_mode": {
    "name": "ipython",
    "version": 3
   },
   "file_extension": ".py",
   "mimetype": "text/x-python",
   "name": "python",
   "nbconvert_exporter": "python",
   "pygments_lexer": "ipython3",
   "version": "3.9.7"
  }
 },
 "nbformat": 4,
 "nbformat_minor": 5
}

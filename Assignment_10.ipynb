{
 "cells": [
  {
   "cell_type": "code",
   "execution_count": 3,
   "id": "865a5f63",
   "metadata": {},
   "outputs": [
    {
     "data": {
      "text/plain": [
       "15"
      ]
     },
     "execution_count": 3,
     "metadata": {},
     "output_type": "execute_result"
    }
   ],
   "source": [
    "##1.Write a Python program to find sum of elements in list?\n",
    "\n",
    "def sum_list(num):\n",
    "    if type(num)==list:\n",
    "        sum=0        \n",
    "        for i in num:\n",
    "            sum=sum+i\n",
    "        return sum\n",
    "            \n",
    "    \n",
    "sum_list([1,2,3,4,5])"
   ]
  },
  {
   "cell_type": "code",
   "execution_count": 4,
   "id": "05c5d722",
   "metadata": {},
   "outputs": [
    {
     "data": {
      "text/plain": [
       "120"
      ]
     },
     "execution_count": 4,
     "metadata": {},
     "output_type": "execute_result"
    }
   ],
   "source": [
    "##2.Write a Python program to  Multiply all numbers in the list?\n",
    "\n",
    "def mul_list(num):\n",
    "    if type(num)==list:\n",
    "        mul=1\n",
    "        for i in num:\n",
    "            mul=mul*i\n",
    "        return mul\n",
    "    \n",
    "    \n",
    "mul_list([1,2,3,4,5])"
   ]
  },
  {
   "cell_type": "code",
   "execution_count": 8,
   "id": "ea0b949d",
   "metadata": {},
   "outputs": [
    {
     "data": {
      "text/plain": [
       "1"
      ]
     },
     "execution_count": 8,
     "metadata": {},
     "output_type": "execute_result"
    }
   ],
   "source": [
    "##3.Write a Python program to find smallest number in a list?\n",
    "\n",
    "def small_list(num):\n",
    "    if type(num)==list:\n",
    "        return min(num)\n",
    "    \n",
    "small_list([3,5,1])"
   ]
  },
  {
   "cell_type": "code",
   "execution_count": 18,
   "id": "2d52f393",
   "metadata": {},
   "outputs": [
    {
     "data": {
      "text/plain": [
       "5"
      ]
     },
     "execution_count": 18,
     "metadata": {},
     "output_type": "execute_result"
    }
   ],
   "source": [
    "##4.Write a Python program to find largest number in a list?\n",
    "\n",
    "def large_list(num):\n",
    "    if type(num)==list:\n",
    "        return max(num)\n",
    "    \n",
    "large_list([3,5,1])"
   ]
  },
  {
   "cell_type": "code",
   "execution_count": 49,
   "id": "ac94abf0",
   "metadata": {},
   "outputs": [
    {
     "data": {
      "text/plain": [
       "5"
      ]
     },
     "execution_count": 49,
     "metadata": {},
     "output_type": "execute_result"
    }
   ],
   "source": [
    "##5.Write a Python program to find second largest number in a list?\n",
    "\n",
    "def second_large(num):\n",
    "    num.sort()\n",
    "    return num[-2]\n",
    "         \n",
    "\n",
    "second_large([5,4,1,8,0])"
   ]
  },
  {
   "cell_type": "code",
   "execution_count": 51,
   "id": "62d9843a",
   "metadata": {},
   "outputs": [
    {
     "data": {
      "text/plain": [
       "[8, 6, 3]"
      ]
     },
     "execution_count": 51,
     "metadata": {},
     "output_type": "execute_result"
    }
   ],
   "source": [
    "##6.Write a Python program to find N largest elements from a list?\n",
    "\n",
    "def Nmaxelements(list1, N):\n",
    "    final_list = []\n",
    " \n",
    "    for i in range(0, N): \n",
    "        max1 = 0\n",
    "         \n",
    "        for j in range(len(list1)):     \n",
    "            if list1[j] > max1:\n",
    "                max1 = list1[j];\n",
    "                 \n",
    "        list1.remove(max1);\n",
    "        final_list.append(max1)\n",
    "         \n",
    "    return final_list\n",
    "\n",
    "\n",
    "Nmaxelements([3,8,6,1,0],3)"
   ]
  },
  {
   "cell_type": "code",
   "execution_count": 69,
   "id": "90be8641",
   "metadata": {},
   "outputs": [
    {
     "data": {
      "text/plain": [
       "[2, 6]"
      ]
     },
     "execution_count": 69,
     "metadata": {},
     "output_type": "execute_result"
    }
   ],
   "source": [
    "##7.Write a Python program to print even numbers in a list?\n",
    "\n",
    "def even_num(num):\n",
    "    if type(num)==list:\n",
    "        even=[]\n",
    "        for i in num:\n",
    "            if i%2==0:\n",
    "                even.append(i)\n",
    "        return even\n",
    "    \n",
    "even_num([1,2,3,6,7])"
   ]
  },
  {
   "cell_type": "code",
   "execution_count": 71,
   "id": "39c267b5",
   "metadata": {},
   "outputs": [
    {
     "data": {
      "text/plain": [
       "[1, 3, 7]"
      ]
     },
     "execution_count": 71,
     "metadata": {},
     "output_type": "execute_result"
    }
   ],
   "source": [
    "##8.Write a Python program to print odd numbers in a List?\n",
    "\n",
    "def odd_num(num):\n",
    "    if type(num)==list:\n",
    "        odd=[]\n",
    "        for i in num:\n",
    "            if i%2!=0:\n",
    "                odd.append(i)\n",
    "        return odd\n",
    "    \n",
    "odd_num([1,2,3,6,7])"
   ]
  },
  {
   "cell_type": "code",
   "execution_count": 82,
   "id": "b415ea6d",
   "metadata": {},
   "outputs": [
    {
     "data": {
      "text/plain": [
       "[[1, 2], [4, 5]]"
      ]
     },
     "execution_count": 82,
     "metadata": {},
     "output_type": "execute_result"
    }
   ],
   "source": [
    "##9.Write a Python program to Remove empty List from list?\n",
    "\n",
    "def del_empty_list(num):\n",
    "    if type(num)==list:\n",
    "        non_empty_list=[]\n",
    "        for i in num:\n",
    "            if i!=[]:\n",
    "                non_empty_list.append(i)\n",
    "        return non_empty_list\n",
    "    \n",
    "    \n",
    "del_empty_list([[1,2],[],[4,5]])   "
   ]
  },
  {
   "cell_type": "code",
   "execution_count": 83,
   "id": "af9956d2",
   "metadata": {},
   "outputs": [
    {
     "data": {
      "text/plain": [
       "[3, 6, 9, 1, 0]"
      ]
     },
     "execution_count": 83,
     "metadata": {},
     "output_type": "execute_result"
    }
   ],
   "source": [
    "##10.Write a Python program to Cloning or Copying a list?\n",
    "\n",
    "def copy_list(num):\n",
    "    copy=num[:]\n",
    "    return copy\n",
    "\n",
    "copy_list([3,6,9,1,0])"
   ]
  },
  {
   "cell_type": "code",
   "execution_count": 87,
   "id": "46b37c6f",
   "metadata": {},
   "outputs": [
    {
     "data": {
      "text/plain": [
       "3"
      ]
     },
     "execution_count": 87,
     "metadata": {},
     "output_type": "execute_result"
    }
   ],
   "source": [
    "##11.Write a Python program to Count occurrences of an element in a list?\n",
    "\n",
    "def value_count(num,x):\n",
    "    count=0\n",
    "    for i in num:\n",
    "        if i==x:\n",
    "            count+=1\n",
    "    return count\n",
    "\n",
    "value_count([4,5,6,5,5],5)"
   ]
  },
  {
   "cell_type": "code",
   "execution_count": null,
   "id": "05eaed8b",
   "metadata": {},
   "outputs": [],
   "source": []
  },
  {
   "cell_type": "code",
   "execution_count": null,
   "id": "d9a2f784",
   "metadata": {},
   "outputs": [],
   "source": []
  },
  {
   "cell_type": "code",
   "execution_count": null,
   "id": "d8278e82",
   "metadata": {},
   "outputs": [],
   "source": []
  },
  {
   "cell_type": "code",
   "execution_count": null,
   "id": "66b0b31b",
   "metadata": {},
   "outputs": [],
   "source": []
  },
  {
   "cell_type": "code",
   "execution_count": null,
   "id": "e41bcfeb",
   "metadata": {},
   "outputs": [],
   "source": []
  },
  {
   "cell_type": "code",
   "execution_count": null,
   "id": "79bcd086",
   "metadata": {},
   "outputs": [],
   "source": []
  }
 ],
 "metadata": {
  "kernelspec": {
   "display_name": "Python 3 (ipykernel)",
   "language": "python",
   "name": "python3"
  },
  "language_info": {
   "codemirror_mode": {
    "name": "ipython",
    "version": 3
   },
   "file_extension": ".py",
   "mimetype": "text/x-python",
   "name": "python",
   "nbconvert_exporter": "python",
   "pygments_lexer": "ipython3",
   "version": "3.9.7"
  }
 },
 "nbformat": 4,
 "nbformat_minor": 5
}

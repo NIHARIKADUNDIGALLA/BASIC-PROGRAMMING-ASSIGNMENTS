{
 "cells": [
  {
   "cell_type": "code",
   "execution_count": 5,
   "id": "b7c12cfd",
   "metadata": {},
   "outputs": [
    {
     "data": {
      "text/plain": [
       "18"
      ]
     },
     "execution_count": 5,
     "metadata": {},
     "output_type": "execute_result"
    }
   ],
   "source": [
    "##1. Create a function that takes three arguments a, b, c and returns the sum of the numbers that are evenly \n",
    "##divided by c from the range a, b inclusive.\n",
    "\n",
    "def evenly(a,b,c):\n",
    "    n=[]\n",
    "    for i in range(a,b+1):\n",
    "        if i%c==0:\n",
    "            n.append(i)\n",
    "    sum=0\n",
    "    for i in range(0,len(n)):\n",
    "        sum=sum+n[i]\n",
    "    return sum\n",
    "\n",
    "evenly(1,10,3)"
   ]
  },
  {
   "cell_type": "code",
   "execution_count": 9,
   "id": "d77ee24c",
   "metadata": {},
   "outputs": [
    {
     "data": {
      "text/plain": [
       "False"
      ]
     },
     "execution_count": 9,
     "metadata": {},
     "output_type": "execute_result"
    }
   ],
   "source": [
    "##2. Create a function that returns True if a given inequality expression is correct and False otherwise.\n",
    "\n",
    "def inequality(a):\n",
    "    regex=eval(a)\n",
    "    if regex:\n",
    "        return True\n",
    "    else:\n",
    "        return False\n",
    "    \n",
    "inequality(\"13 > 44 > 33 > 1\")"
   ]
  },
  {
   "cell_type": "code",
   "execution_count": 19,
   "id": "f06432a1",
   "metadata": {},
   "outputs": [
    {
     "name": "stdout",
     "output_type": "stream",
     "text": [
      "minnie mouse\n",
      "?\n"
     ]
    },
    {
     "data": {
      "text/plain": [
       "'m?nn?? m??s?'"
      ]
     },
     "execution_count": 19,
     "metadata": {},
     "output_type": "execute_result"
    }
   ],
   "source": [
    "##3. Create a function that replaces all the vowels in a string with a specified character.\n",
    "\n",
    "def spe_char():\n",
    "    string=str(input())\n",
    "    specified_char=str(input())\n",
    "    vowels=[\"a\",\"e\",\"i\",\"o\",\"u\"]\n",
    "    m=[]\n",
    "    for char in string:\n",
    "        if char in vowels:\n",
    "            string=string.replace(char,specified_char)\n",
    "            m.append(string)\n",
    "    return m[-1]\n",
    "                             \n",
    "    \n",
    "spe_char()"
   ]
  },
  {
   "cell_type": "code",
   "execution_count": 9,
   "id": "9ea0a87f",
   "metadata": {},
   "outputs": [
    {
     "data": {
      "text/plain": [
       "120"
      ]
     },
     "execution_count": 9,
     "metadata": {},
     "output_type": "execute_result"
    }
   ],
   "source": [
    "##4. Write a function that calculates the factorial of a number recursively.\n",
    "\n",
    "def fact(n):\n",
    "    factorial=1\n",
    "    if n<0:\n",
    "        return \"There is no factorial.\"\n",
    "    elif n==0:\n",
    "        return \"The factorial is 1.\"\n",
    "    else:\n",
    "        for i in range(1,n+1):\n",
    "            factorial=factorial*i\n",
    "        return factorial\n",
    "\n",
    "fact(5)"
   ]
  },
  {
   "cell_type": "code",
   "execution_count": 13,
   "id": "abd189c3",
   "metadata": {},
   "outputs": [
    {
     "name": "stdout",
     "output_type": "stream",
     "text": [
      "abcde\n",
      "bcdef\n"
     ]
    },
    {
     "data": {
      "text/plain": [
       "5"
      ]
     },
     "execution_count": 13,
     "metadata": {},
     "output_type": "execute_result"
    }
   ],
   "source": [
    "##5.Hamming distance is the number of characters that differ between two strings.\n",
    "\n",
    "def ham_dist():\n",
    "    str1=str(input())\n",
    "    str2=str(input())\n",
    "    dist=0\n",
    "    l=len(str1)\n",
    "    for i in range(l):\n",
    "        if str1[i]!=str2[i]:\n",
    "            dist+=1\n",
    "    return dist\n",
    "\n",
    "ham_dist()"
   ]
  },
  {
   "cell_type": "code",
   "execution_count": null,
   "id": "e11c917d",
   "metadata": {},
   "outputs": [],
   "source": []
  }
 ],
 "metadata": {
  "kernelspec": {
   "display_name": "Python 3 (ipykernel)",
   "language": "python",
   "name": "python3"
  },
  "language_info": {
   "codemirror_mode": {
    "name": "ipython",
    "version": 3
   },
   "file_extension": ".py",
   "mimetype": "text/x-python",
   "name": "python",
   "nbconvert_exporter": "python",
   "pygments_lexer": "ipython3",
   "version": "3.9.7"
  }
 },
 "nbformat": 4,
 "nbformat_minor": 5
}
